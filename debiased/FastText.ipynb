{
  "cells": [
    {
      "cell_type": "code",
      "execution_count": null,
      "metadata": {
        "colab": {
          "base_uri": "https://localhost:8080/"
        },
        "id": "PRvBMbqZAAh7",
        "outputId": "4696afeb-8a98-49d2-fde3-08519138bd5c"
      },
      "outputs": [
        {
          "output_type": "stream",
          "name": "stdout",
          "text": [
            "Requirement already satisfied: pandas in /usr/local/lib/python3.10/dist-packages (2.0.3)\n",
            "Requirement already satisfied: python-dateutil>=2.8.2 in /usr/local/lib/python3.10/dist-packages (from pandas) (2.8.2)\n",
            "Requirement already satisfied: pytz>=2020.1 in /usr/local/lib/python3.10/dist-packages (from pandas) (2023.4)\n",
            "Requirement already satisfied: tzdata>=2022.1 in /usr/local/lib/python3.10/dist-packages (from pandas) (2024.1)\n",
            "Requirement already satisfied: numpy>=1.21.0 in /usr/local/lib/python3.10/dist-packages (from pandas) (1.25.2)\n",
            "Requirement already satisfied: six>=1.5 in /usr/local/lib/python3.10/dist-packages (from python-dateutil>=2.8.2->pandas) (1.16.0)\n",
            "Requirement already satisfied: nltk in /usr/local/lib/python3.10/dist-packages (3.8.1)\n",
            "Requirement already satisfied: click in /usr/local/lib/python3.10/dist-packages (from nltk) (8.1.7)\n",
            "Requirement already satisfied: joblib in /usr/local/lib/python3.10/dist-packages (from nltk) (1.4.2)\n",
            "Requirement already satisfied: regex>=2021.8.3 in /usr/local/lib/python3.10/dist-packages (from nltk) (2024.5.15)\n",
            "Requirement already satisfied: tqdm in /usr/local/lib/python3.10/dist-packages (from nltk) (4.66.4)\n",
            "Requirement already satisfied: gensim in /usr/local/lib/python3.10/dist-packages (4.3.2)\n",
            "Requirement already satisfied: numpy>=1.18.5 in /usr/local/lib/python3.10/dist-packages (from gensim) (1.25.2)\n",
            "Requirement already satisfied: scipy>=1.7.0 in /usr/local/lib/python3.10/dist-packages (from gensim) (1.11.4)\n",
            "Requirement already satisfied: smart-open>=1.8.1 in /usr/local/lib/python3.10/dist-packages (from gensim) (7.0.4)\n",
            "Requirement already satisfied: wrapt in /usr/local/lib/python3.10/dist-packages (from smart-open>=1.8.1->gensim) (1.14.1)\n"
          ]
        }
      ],
      "source": [
        "!pip install pandas\n",
        "!pip install nltk\n",
        "!pip install gensim"
      ]
    },
    {
      "cell_type": "code",
      "execution_count": null,
      "metadata": {
        "colab": {
          "base_uri": "https://localhost:8080/"
        },
        "id": "3RNLGI5zAEC5",
        "outputId": "0bbdcd87-8eb8-425b-cf5e-303326fbfd35"
      },
      "outputs": [
        {
          "output_type": "stream",
          "name": "stderr",
          "text": [
            "[nltk_data] Downloading package punkt to /root/nltk_data...\n",
            "[nltk_data]   Unzipping tokenizers/punkt.zip.\n"
          ]
        },
        {
          "output_type": "execute_result",
          "data": {
            "text/plain": [
              "0       [kelompokkriminalbersenjata, menembak, membung...\n",
              "1       [perkembangan, mutilasi, wanita, dipaparkan, p...\n",
              "2       [penemuan, pria, dibunuh, gabungan, berhasil, ...\n",
              "3       [pria, ditusuk, berpestamiras, peristiwa, penu...\n",
              "4       [ditreskrimum, mengungkap, penipuan, tersangka...\n",
              "                              ...                        \n",
              "1665    [ditreskrimum, menangkap, meresahkan, masyarak...\n",
              "1666    [ditreskrimsus, menangkap, ditangkap, lantaran...\n",
              "1667    [siswa, menengah, kejuruan, terlibat, tawuran,...\n",
              "1668    [kejiwaan, wanita, tersangka, pemeranfilmporno...\n",
              "1669    [kejiwaan, wanita, tersangka, pemeranfilmporno...\n",
              "Name: Summary, Length: 1670, dtype: object"
            ]
          },
          "metadata": {},
          "execution_count": 2
        }
      ],
      "source": [
        "import pandas as pd\n",
        "from gensim.models import Word2Vec\n",
        "import nltk\n",
        "nltk.download('punkt')\n",
        "\n",
        "# Baca data CSV\n",
        "df = pd.read_csv('pra-pemrosesan.csv')\n",
        "\n",
        "# Tokenisasi teks (jika diperlukan)\n",
        "sentences = df['Summary'].apply(lambda x: x.split())\n",
        "\n",
        "# Simpan DataFrame ke dalam file CSV\n",
        "#output_csv_file = \"hasil_pemrosesan.csv\"\n",
        "#df.to_csv(output_csv_file, index=False)\n",
        "\n",
        "#print(f\"Hasil pemrosesan disimpan dalam file CSV: {output_csv_file}\")\n",
        "sentences\n"
      ]
    },
    {
      "cell_type": "code",
      "execution_count": null,
      "metadata": {
        "id": "f4szZHZQw7h_",
        "colab": {
          "base_uri": "https://localhost:8080/"
        },
        "outputId": "505348b1-e3e6-4397-9536-3d54666bd92b"
      },
      "outputs": [
        {
          "output_type": "stream",
          "name": "stdout",
          "text": [
            "Vektor kata telah disimpan ke dalam 'fasttext_vectors.txt'\n"
          ]
        }
      ],
      "source": [
        "from gensim.models.fasttext import FastText\n",
        "import numpy as np\n",
        "\n",
        "# Latih model FastText\n",
        "model = FastText(sentences, vector_size=300, window=2, min_count=7, sg=1, seed=42)\n",
        "\n",
        "# Simpan model FastText ke file jika diperlukan\n",
        "model.save(\"fasttext.model\")\n",
        "\n",
        "model = FastText.load(\"fasttext.model\")"
      ]
    },
    {
      "cell_type": "code",
      "source": [
        "# Ambil daftar semua kata yang direpresentasikan dalam model\n",
        "all_words = list(model.wv.index_to_key)\n",
        "\n",
        "# Loop melalui semua kata dan mendapatkan vektor representasinya\n",
        "vectors = {}\n",
        "for word in all_words:\n",
        "    vectors[word] = model.wv[word]\n",
        "\n",
        "# Simpan vektor-vektor kata ke dalam file teks\n",
        "with open(\"fasttext_vectorsw2.txt\", \"w\") as f:\n",
        "    for word, vector in vectors.items():\n",
        "        vector_str = ' '.join(map(str, vector))\n",
        "        f.write(f\"{word} {vector_str}\\n\")\n",
        "\n",
        "print(\"Vektor kata telah disimpan ke dalam 'fasttext_vectors.txt'\")"
      ],
      "metadata": {
        "id": "jqkov19TtCPs"
      },
      "execution_count": null,
      "outputs": []
    }
  ],
  "metadata": {
    "colab": {
      "provenance": []
    },
    "kernelspec": {
      "display_name": "Python 3",
      "name": "python3"
    },
    "language_info": {
      "name": "python"
    }
  },
  "nbformat": 4,
  "nbformat_minor": 0
}