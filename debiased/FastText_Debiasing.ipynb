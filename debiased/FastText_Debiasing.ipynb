{
 "cells": [
  {
   "cell_type": "code",
   "execution_count": 1,
   "metadata": {
    "collapsed": true
   },
   "outputs": [],
   "source": [
    "from __future__ import print_function, division\n",
    "%matplotlib inline\n",
    "from matplotlib import pyplot as plt\n",
    "import json\n",
    "import random\n",
    "import numpy as np\n",
    "\n",
    "import debiaswe as dwe\n",
    "import debiaswe.we as we\n",
    "from debiaswe.we import WordEmbedding"
   ]
  },
  {
   "cell_type": "markdown",
   "metadata": {},
   "source": [
    "## Part 1: Gender Bias in Word Embedding"
   ]
  },
  {
   "cell_type": "code",
   "execution_count": 2,
   "metadata": {},
   "outputs": [
    {
     "name": "stdout",
     "output_type": "stream",
     "text": [
      "*** Reading data from ./embeddings/fasttext_vectors2.txt\n",
      "(376, 300)\n",
      "376 words of dimension 300 : siswi, tersangka, kelompokkriminalbersenjata, ditangkap, ..., pelakukekerasanseksual, membegal, menderita, korbanpenganiayaan\n",
      "376 words of dimension 300 : siswi, tersangka, kelompokkriminalbersenjata, ditangkap, ..., pelakukekerasanseksual, membegal, menderita, korbanpenganiayaan\n"
     ]
    }
   ],
   "source": [
    "# load google news word2vec\n",
    "E = WordEmbedding('./embeddings/fasttext_vectors2.txt')"
   ]
  },
  {
   "cell_type": "markdown",
   "metadata": {},
   "source": [
    "### Step 2: Define gender direction"
   ]
  },
  {
   "cell_type": "code",
   "execution_count": 3,
   "metadata": {
    "collapsed": true
   },
   "outputs": [],
   "source": [
    "# gender direction\n",
    "v_gender = E.diff('perempuan', 'lakilaki')"
   ]
  },
  {
   "cell_type": "markdown",
   "metadata": {},
   "source": [
    "### Step 3: Generating analogies of \"Man: x :: Woman : y\""
   ]
  },
  {
   "cell_type": "code",
   "execution_count": null,
   "metadata": {},
   "outputs": [],
   "source": [
    "# analogies gender\n",
    "a_gender = E.best_analogies_dist_thresh(v_gender)\n",
    "\n",
    "for (a,b,c) in a_gender:\n",
    "    print(a+\"-\"+b)"
   ]
  },
  {
   "cell_type": "markdown",
   "metadata": {
    "collapsed": true
   },
   "source": [
    "## Debiasing Word Embedding"
   ]
  },
  {
   "cell_type": "code",
   "execution_count": 4,
   "metadata": {
    "collapsed": true
   },
   "outputs": [],
   "source": [
    "from debiaswe.debias import debias"
   ]
  },
  {
   "cell_type": "code",
   "execution_count": 5,
   "metadata": {},
   "outputs": [
    {
     "name": "stdout",
     "output_type": "stream",
     "text": [
      "definitional [['perempuan', 'lakilaki'], ['wanita', 'pria'], ['ibu', 'bapak'], ['putri', 'putra'], ['bunda', 'ayah'], ['mami', 'papi'], ['pemudi', 'pemuda'], ['saudari', 'saudara']]\n",
      "gender specific 43 ['abang', 'ayah', 'ayahanda', 'bapak', 'bibi', 'boy', 'bunda', 'emak', 'gadis', 'girl']\n"
     ]
    }
   ],
   "source": [
    "# Lets load some gender related word lists to help us with debiasing\n",
    "with open('./data/definitional_pairs.json', \"r\") as f:\n",
    "    defs = json.load(f)\n",
    "print(\"definitional\", defs)\n",
    "\n",
    "with open('./data/equalize_pairs.json', \"r\") as f:\n",
    "    equalize_pairs = json.load(f)\n",
    "\n",
    "with open('./data/gender_specific_seed.json', \"r\") as f:\n",
    "    gender_specific_words = json.load(f)\n",
    "print(\"gender specific\", len(gender_specific_words), gender_specific_words[:10])"
   ]
  },
  {
   "cell_type": "code",
   "execution_count": 6,
   "metadata": {},
   "outputs": [
    {
     "name": "stdout",
     "output_type": "stream",
     "text": [
      "376 words of dimension 300 : siswi, tersangka, kelompokkriminalbersenjata, ditangkap, ..., pelakukekerasanseksual, membegal, menderita, korbanpenganiayaan\n",
      "{('PRIA', 'WANITA'), ('Siswa', 'Siswi'), ('lelaki', 'perempuan'), ('Wartawan', 'Wartawati'), ('papi', 'mami'), ('ayah', 'bunda'), ('LAKILAKI', 'PEREMPUAN'), ('Lelaki', 'Perempuan'), ('putra', 'putri'), ('wartawan', 'wartawati'), ('PAPI', 'MAMI'), ('AYAH', 'BUNDA'), ('LELAKI', 'PEREMPUAN'), ('Pria', 'Wanita'), ('mahasiswa', 'mahasiswi'), ('siswa', 'siswi'), ('PAMAN', 'BIBI'), ('SISWA', 'SISWI'), ('Paman', 'Bibi'), ('Karyawan', 'Karyawati'), ('SAUDARA', 'SAUDARI'), ('karyawan', 'karyawati'), ('Ayah', 'Ibu'), ('paman', 'bibi'), ('Saudara', 'Saudari'), ('suami', 'istri'), ('Mahasiswa', 'Mahasiswi'), ('saudara', 'saudari'), ('pemuda', 'pemudi'), ('Putra', 'Putri'), ('SUAMI', 'ISTRI'), ('AYAH', 'IBU'), ('Pemuda', 'Pemudi'), ('Ayah', 'Bunda'), ('Lakilaki', 'Perempuan'), ('PEMUDA', 'PEMUDI'), ('Papi', 'Mami'), ('KARYAWAN', 'KARYAWATI'), ('WARTAWAN', 'WARTAWATI'), ('Suami', 'Istri'), ('pria', 'wanita'), ('PUTRA', 'PUTRI'), ('lakilaki', 'perempuan'), ('MAHASISWA', 'MAHASISWI'), ('ayah', 'ibu')}\n",
      "376 words of dimension 300 : siswi, tersangka, kelompokkriminalbersenjata, ditangkap, ..., pelakukekerasanseksual, membegal, menderita, korbanpenganiayaan\n"
     ]
    }
   ],
   "source": [
    "debias(E, gender_specific_words, defs, equalize_pairs)"
   ]
  },
  {
   "cell_type": "code",
   "execution_count": null,
   "metadata": {},
   "outputs": [],
   "source": [
    "# analogies gender\n",
    "a_gender_debiased = E.best_analogies_dist_thresh(v_gender)\n",
    "\n",
    "for (a,b,c) in a_gender_debiased:\n",
    "    print(a+\"-\"+b)"
   ]
  },
  {
   "cell_type": "code",
   "execution_count": 7,
   "metadata": {},
   "outputs": [
    {
     "ename": "FileNotFoundError",
     "evalue": "[Errno 2] No such file or directory: 'Bismillah'",
     "output_type": "error",
     "traceback": [
      "\u001b[1;31m---------------------------------------------------------------------------\u001b[0m",
      "\u001b[1;31mFileNotFoundError\u001b[0m                         Traceback (most recent call last)",
      "Cell \u001b[1;32mIn[7], line 2\u001b[0m\n\u001b[0;32m      1\u001b[0m E\u001b[38;5;241m.\u001b[39mvecs\n\u001b[1;32m----> 2\u001b[0m \u001b[43mE\u001b[49m\u001b[38;5;241;43m.\u001b[39;49m\u001b[43msave\u001b[49m\u001b[43m(\u001b[49m\u001b[38;5;124;43m'\u001b[39;49m\u001b[38;5;124;43mBismillah\u001b[39;49m\u001b[38;5;124;43m'\u001b[39;49m\u001b[43m)\u001b[49m\n",
      "File \u001b[1;32md:\\D\\Dokumennnnn\\New folder (4)\\Music\\debiaswe-master\\debiaswe\\we.py:114\u001b[0m, in \u001b[0;36mWordEmbedding.save\u001b[1;34m(self, filename)\u001b[0m\n\u001b[0;32m    113\u001b[0m \u001b[38;5;28;01mdef\u001b[39;00m \u001b[38;5;21msave\u001b[39m(\u001b[38;5;28mself\u001b[39m, filename):\n\u001b[1;32m--> 114\u001b[0m     \u001b[38;5;28;01mwith\u001b[39;00m \u001b[38;5;28;43mopen\u001b[39;49m\u001b[43m(\u001b[49m\u001b[43mfilename\u001b[49m\u001b[43m,\u001b[49m\u001b[43m \u001b[49m\u001b[38;5;124;43m\"\u001b[39;49m\u001b[38;5;124;43mw\u001b[39;49m\u001b[38;5;124;43m\"\u001b[39;49m\u001b[43m)\u001b[49m \u001b[38;5;28;01mas\u001b[39;00m f:\n\u001b[0;32m    115\u001b[0m         f\u001b[38;5;241m.\u001b[39mwrite(\u001b[38;5;124m\"\u001b[39m\u001b[38;5;130;01m\\n\u001b[39;00m\u001b[38;5;124m\"\u001b[39m\u001b[38;5;241m.\u001b[39mjoin([w\u001b[38;5;241m+\u001b[39m\u001b[38;5;124m\"\u001b[39m\u001b[38;5;124m \u001b[39m\u001b[38;5;124m\"\u001b[39m \u001b[38;5;241m+\u001b[39m \u001b[38;5;124m\"\u001b[39m\u001b[38;5;124m \u001b[39m\u001b[38;5;124m\"\u001b[39m\u001b[38;5;241m.\u001b[39mjoin([\u001b[38;5;28mstr\u001b[39m(x) \u001b[38;5;28;01mfor\u001b[39;00m x \u001b[38;5;129;01min\u001b[39;00m v]) \u001b[38;5;28;01mfor\u001b[39;00m w, v \u001b[38;5;129;01min\u001b[39;00m \u001b[38;5;28mzip\u001b[39m(\u001b[38;5;28mself\u001b[39m\u001b[38;5;241m.\u001b[39mwords, \u001b[38;5;28mself\u001b[39m\u001b[38;5;241m.\u001b[39mvecs)]))\n\u001b[0;32m    116\u001b[0m     \u001b[38;5;28mprint\u001b[39m(\u001b[38;5;124m\"\u001b[39m\u001b[38;5;124mWrote\u001b[39m\u001b[38;5;124m\"\u001b[39m, \u001b[38;5;28mself\u001b[39m\u001b[38;5;241m.\u001b[39mn, \u001b[38;5;124m\"\u001b[39m\u001b[38;5;124mwords to\u001b[39m\u001b[38;5;124m\"\u001b[39m, filename)\n",
      "\u001b[1;31mFileNotFoundError\u001b[0m: [Errno 2] No such file or directory: 'Bismillah'"
     ]
    }
   ],
   "source": [
    "E.vecs\n",
    "E.save('Bismillah')"
   ]
  }
 ],
 "metadata": {
  "kernelspec": {
   "display_name": "Python 3",
   "language": "python",
   "name": "python3"
  },
  "language_info": {
   "codemirror_mode": {
    "name": "ipython",
    "version": 3
   },
   "file_extension": ".py",
   "mimetype": "text/x-python",
   "name": "python",
   "nbconvert_exporter": "python",
   "pygments_lexer": "ipython3",
   "version": "3.11.9"
  }
 },
 "nbformat": 4,
 "nbformat_minor": 2
}
